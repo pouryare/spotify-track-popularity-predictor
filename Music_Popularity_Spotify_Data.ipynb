{
  "nbformat": 4,
  "nbformat_minor": 0,
  "metadata": {
    "colab": {
      "provenance": []
    },
    "kernelspec": {
      "name": "python3",
      "display_name": "Python 3"
    },
    "language_info": {
      "name": "python"
    }
  },
  "cells": [
    {
      "cell_type": "markdown",
      "source": [
        "Spotify Music Analysis Script\n",
        "\n",
        "This script analyzes music tracks from a Spotify playlist to extract various features\n",
        "and characteristics, creating a comprehensive dataset for music analysis.\n",
        "\n",
        "Requirements:\n",
        "    - spotipy library (pip install spotipy)\n",
        "    - pandas library\n",
        "    - Valid Spotify Developer credentials\n",
        "\n",
        "The script performs the following steps:\n",
        "1. Authentication with Spotify API\n",
        "2. Retrieval of playlist tracks\n",
        "3. Extraction of track and artist features\n",
        "4. Creation of a consolidated dataset"
      ],
      "metadata": {
        "id": "5NSkwdKW6gFu"
      }
    },
    {
      "cell_type": "code",
      "source": [
        "!pip install spotipy --quiet"
      ],
      "metadata": {
        "id": "-3-5BR0J9n2w"
      },
      "execution_count": 9,
      "outputs": []
    },
    {
      "cell_type": "code",
      "execution_count": 10,
      "metadata": {
        "id": "EEd0YzLj5-8V"
      },
      "outputs": [],
      "source": [
        "import os\n",
        "from typing import List, Dict, Any, Optional\n",
        "import pandas as pd\n",
        "import spotipy\n",
        "from spotipy.oauth2 import SpotifyClientCredentials"
      ]
    },
    {
      "cell_type": "code",
      "source": [
        "def authenticate_spotify(client_id: str, client_secret: str) -> spotipy.Spotify:\n",
        "    \"\"\"\n",
        "    Authenticate with Spotify API using client credentials.\n",
        "\n",
        "    Args:\n",
        "        client_id: Spotify API client ID\n",
        "        client_secret: Spotify API client secret\n",
        "\n",
        "    Returns:\n",
        "        Authenticated Spotify client object\n",
        "\n",
        "    Raises:\n",
        "        spotipy.SpotifyException: If authentication fails\n",
        "    \"\"\"\n",
        "    auth_manager = SpotifyClientCredentials(\n",
        "        client_id=client_id,\n",
        "        client_secret=client_secret\n",
        "    )\n",
        "    return spotipy.Spotify(client_credentials_manager=auth_manager)\n"
      ],
      "metadata": {
        "id": "cSDmmGjs6iUn"
      },
      "execution_count": 11,
      "outputs": []
    },
    {
      "cell_type": "code",
      "source": [
        "def extract_playlist_uri(playlist_link: str) -> str:\n",
        "    \"\"\"\n",
        "    Extract playlist URI from Spotify playlist link.\n",
        "\n",
        "    Args:\n",
        "        playlist_link: Full Spotify playlist URL\n",
        "\n",
        "    Returns:\n",
        "        Playlist URI (last part of the URL before any query parameters)\n",
        "    \"\"\"\n",
        "    return playlist_link.split(\"/\")[-1].split(\"?\")[0]"
      ],
      "metadata": {
        "id": "Dr8XaD9O6h_C"
      },
      "execution_count": 12,
      "outputs": []
    },
    {
      "cell_type": "code",
      "source": [
        "def get_all_playlist_tracks(sp: spotipy.Spotify, playlist_uri: str) -> List[Dict]:\n",
        "    \"\"\"\n",
        "    Extract all tracks from a playlist, handling pagination.\n",
        "\n",
        "    Args:\n",
        "        sp: Authenticated Spotify client\n",
        "        playlist_uri: Playlist identifier\n",
        "\n",
        "    Returns:\n",
        "        List of all tracks in the playlist\n",
        "    \"\"\"\n",
        "    tracks = []\n",
        "    results = sp.playlist_tracks(playlist_uri)\n",
        "    tracks.extend(results['items'])\n",
        "\n",
        "    # Handle pagination\n",
        "    while results['next']:\n",
        "        results = sp.next(results)\n",
        "        tracks.extend(results['items'])\n",
        "\n",
        "    print(f\"Total tracks retrieved: {len(tracks)}\")\n",
        "    return tracks"
      ],
      "metadata": {
        "id": "anLUesiZ6h70"
      },
      "execution_count": 13,
      "outputs": []
    },
    {
      "cell_type": "code",
      "source": [
        "def process_tracks_in_batches(sp: spotipy.Spotify, tracks: List[Dict], batch_size: int = 50) -> tuple[pd.DataFrame, pd.DataFrame]:\n",
        "    \"\"\"\n",
        "    Process tracks in batches to avoid API rate limits.\n",
        "\n",
        "    Args:\n",
        "        sp: Authenticated Spotify client\n",
        "        tracks: List of track information\n",
        "        batch_size: Number of tracks to process in each batch\n",
        "\n",
        "    Returns:\n",
        "        Tuple of two DataFrames:\n",
        "        - Audio features DataFrame\n",
        "        - Track metadata DataFrame\n",
        "    \"\"\"\n",
        "    track_data = {\n",
        "        \"track_uri\": [],\n",
        "        \"track_name\": [],\n",
        "        \"artist_name\": [],\n",
        "        \"artist_popularity\": [],\n",
        "        \"artist_genres\": [],\n",
        "        \"album_name\": [],\n",
        "        \"track_popularity\": []\n",
        "    }\n",
        "\n",
        "    audio_features_list = []\n",
        "    total_tracks = len(tracks)\n",
        "\n",
        "    for i in range(0, total_tracks, batch_size):\n",
        "        batch = tracks[i:i + batch_size]\n",
        "        batch_uris = []\n",
        "\n",
        "        print(f\"\\nProcessing batch {i//batch_size + 1} of {(total_tracks + batch_size - 1)//batch_size}\")\n",
        "\n",
        "        # Extract basic track and artist information\n",
        "        for track in batch:\n",
        "            if track['track'] is None:  # Skip any None/null tracks\n",
        "                continue\n",
        "\n",
        "            track_info = track['track']\n",
        "            batch_uris.append(track_info['uri'])\n",
        "\n",
        "            # Get artist information (with rate limit consideration)\n",
        "            try:\n",
        "                artist_info = sp.artist(track_info['artists'][0]['uri'])\n",
        "\n",
        "                track_data[\"track_uri\"].append(track_info[\"uri\"])\n",
        "                track_data[\"track_name\"].append(track_info[\"name\"])\n",
        "                track_data[\"artist_name\"].append(track_info[\"artists\"][0][\"name\"])\n",
        "                track_data[\"artist_popularity\"].append(artist_info[\"popularity\"])\n",
        "                track_data[\"artist_genres\"].append(artist_info[\"genres\"])\n",
        "                track_data[\"album_name\"].append(track_info[\"album\"][\"name\"])\n",
        "                track_data[\"track_popularity\"].append(track_info[\"popularity\"])\n",
        "            except Exception as e:\n",
        "                print(f\"Error processing track {track_info.get('name', 'unknown')}: {str(e)}\")\n",
        "                continue\n",
        "\n",
        "        # Get audio features for the batch\n",
        "        try:\n",
        "            batch_features = sp.audio_features(batch_uris)\n",
        "            audio_features_list.extend([f for f in batch_features if f is not None])\n",
        "        except Exception as e:\n",
        "            print(f\"Error getting audio features for batch: {str(e)}\")\n",
        "\n",
        "    # Create DataFrames\n",
        "    metadata_df = pd.DataFrame(track_data)\n",
        "    audio_features_df = pd.DataFrame(audio_features_list)\n",
        "\n",
        "    print(f\"\\nProcessed {len(metadata_df)} tracks successfully\")\n",
        "    print(f\"Audio features retrieved for {len(audio_features_df)} tracks\")\n",
        "\n",
        "    return audio_features_df, metadata_df"
      ],
      "metadata": {
        "id": "KVddc-CP6wPQ"
      },
      "execution_count": 14,
      "outputs": []
    },
    {
      "cell_type": "code",
      "source": [
        "def create_final_dataset(\n",
        "    audio_features_df: pd.DataFrame,\n",
        "    metadata_df: pd.DataFrame,\n",
        "    output_path: str\n",
        ") -> pd.DataFrame:\n",
        "    \"\"\"\n",
        "    Combine audio features and metadata into a final dataset and save to CSV.\n",
        "\n",
        "    Args:\n",
        "        audio_features_df: DataFrame containing audio features\n",
        "        metadata_df: DataFrame containing track metadata\n",
        "        output_path: Path where the CSV file will be saved\n",
        "\n",
        "    Returns:\n",
        "        Combined DataFrame with all track information\n",
        "    \"\"\"\n",
        "    # Merge DataFrames on track_uri\n",
        "    final_df = pd.merge(\n",
        "        audio_features_df,\n",
        "        metadata_df,\n",
        "        left_on='uri',\n",
        "        right_on='track_uri',\n",
        "        how='inner'\n",
        "    )\n",
        "\n",
        "    # Remove duplicate columns\n",
        "    final_df = final_df.loc[:,~final_df.columns.duplicated()]\n",
        "\n",
        "    # Save to CSV\n",
        "    final_df.to_csv(output_path, index=False)\n",
        "\n",
        "    print(f\"\\nFinal dataset shape: {final_df.shape}\")\n",
        "    print(f\"Dataset saved to {output_path}\")\n",
        "\n",
        "    return final_df"
      ],
      "metadata": {
        "id": "5Aaoanmd6wMk"
      },
      "execution_count": 15,
      "outputs": []
    },
    {
      "cell_type": "code",
      "source": [
        "# Configuration\n",
        "CLIENT_ID = \"your_client_id\"  # Replace with your Spotify client ID\n",
        "CLIENT_SECRET = \"your_client_secret\"  # Replace with your Spotify client secret\n",
        "PLAYLIST_LINK = \"your_playlist_link\"  # Replace with your playlist link\n",
        "OUTPUT_PATH = \"music_analysis.csv\"\n",
        "\n",
        "# Initialize Spotify client\n",
        "spotify_client = authenticate_spotify(CLIENT_ID, CLIENT_SECRET)\n",
        "\n",
        "# Get playlist URI\n",
        "playlist_uri = extract_playlist_uri(PLAYLIST_LINK)\n",
        "\n",
        "# Get all tracks from playlist\n",
        "all_tracks = get_all_playlist_tracks(spotify_client, playlist_uri)\n",
        "\n",
        "# Process tracks in batches\n",
        "audio_features_df, metadata_df = process_tracks_in_batches(spotify_client, all_tracks)\n",
        "\n",
        "# Create and save final dataset\n",
        "final_dataset = create_final_dataset(audio_features_df, metadata_df, OUTPUT_PATH)"
      ],
      "metadata": {
        "colab": {
          "base_uri": "https://localhost:8080/"
        },
        "id": "s5wuJCiI6wHz",
        "outputId": "81cdd8f9-2ca0-421f-e9fb-08eceaf8b92e"
      },
      "execution_count": 16,
      "outputs": [
        {
          "output_type": "stream",
          "name": "stdout",
          "text": [
            "Total tracks retrieved: 1296\n",
            "\n",
            "Processing batch 1 of 26\n",
            "\n",
            "Processing batch 2 of 26\n",
            "\n",
            "Processing batch 3 of 26\n",
            "\n",
            "Processing batch 4 of 26\n",
            "\n",
            "Processing batch 5 of 26\n",
            "\n",
            "Processing batch 6 of 26\n",
            "\n",
            "Processing batch 7 of 26\n",
            "\n",
            "Processing batch 8 of 26\n",
            "\n",
            "Processing batch 9 of 26\n",
            "\n",
            "Processing batch 10 of 26\n",
            "\n",
            "Processing batch 11 of 26\n",
            "\n",
            "Processing batch 12 of 26\n",
            "\n",
            "Processing batch 13 of 26\n",
            "\n",
            "Processing batch 14 of 26\n",
            "\n",
            "Processing batch 15 of 26\n",
            "\n",
            "Processing batch 16 of 26\n",
            "\n",
            "Processing batch 17 of 26\n",
            "\n",
            "Processing batch 18 of 26\n",
            "\n",
            "Processing batch 19 of 26\n",
            "\n",
            "Processing batch 20 of 26\n",
            "\n",
            "Processing batch 21 of 26\n",
            "\n",
            "Processing batch 22 of 26\n",
            "\n",
            "Processing batch 23 of 26\n",
            "\n",
            "Processing batch 24 of 26\n",
            "\n",
            "Processing batch 25 of 26\n",
            "\n",
            "Processing batch 26 of 26\n",
            "\n",
            "Processed 1296 tracks successfully\n",
            "Audio features retrieved for 1296 tracks\n",
            "\n",
            "Final dataset shape: (1318, 25)\n",
            "Dataset saved to music_analysis.csv\n"
          ]
        }
      ]
    }
  ]
}